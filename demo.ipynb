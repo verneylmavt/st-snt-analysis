{
 "cells": [
  {
   "cell_type": "code",
   "execution_count": 7,
   "metadata": {},
   "outputs": [],
   "source": [
    "import os\n",
    "import json\n",
    "import numpy as np\n",
    "import spacy\n",
    "import onnx\n",
    "import onnxruntime\n",
    "import ipywidgets as widgets\n",
    "from IPython.display import display"
   ]
  },
  {
   "cell_type": "code",
   "execution_count": 8,
   "metadata": {},
   "outputs": [],
   "source": [
    "# ----------------------\n",
    "# Load Vocabulary\n",
    "# ----------------------\n",
    "def load_vocab(model_name):\n",
    "    model_path = os.path.join(\"models\", model_name, \"vocab-dict.json\")\n",
    "    with open(model_path, 'r') as json_file:\n",
    "        vocab = json.load(json_file)\n",
    "        return vocab\n",
    "\n",
    "# ----------------------\n",
    "# Load ONNX Model\n",
    "# ----------------------\n",
    "def load_model(model_name):\n",
    "    model_path = os.path.join(\"models\", str(model_name), \"model-q.onnx\")\n",
    "    model = onnx.load(model_path)\n",
    "    onnx.checker.check_model(model)\n",
    "    ort_session = onnxruntime.InferenceSession(model_path)\n",
    "    return ort_session\n",
    "\n",
    "# ----------------------\n",
    "# Tokenizer\n",
    "# ----------------------\n",
    "def load_spacy():\n",
    "    model_path = os.path.join(\"data\", \"en_core_web_sm\", \"en_core_web_sm-3.8.0\")\n",
    "    if os.path.isdir(model_path):\n",
    "        return spacy.load(model_path)\n",
    "    else:\n",
    "        raise FileNotFoundError(f\"SpaCy model not found at {model_path}. Please ensure it is correctly placed.\")\n",
    "spacy_en = load_spacy()\n",
    "\n",
    "def tokenizer(text):\n",
    "    return [\n",
    "        tok.text.lower() \n",
    "        for tok in spacy_en.tokenizer(text) \n",
    "        if not tok.is_punct and not tok.is_space\n",
    "    ]\n",
    "\n",
    "# ----------------------\n",
    "# Predict Function\n",
    "# ----------------------\n",
    "def softmax(x, axis=None):\n",
    "    e_x = np.exp(x - np.max(x, axis=axis, keepdims=True))\n",
    "    return e_x / e_x.sum(axis=axis, keepdims=True)\n",
    "\n",
    "def predict_sentiment(ort_session, vocab, sequence, max_length=100):\n",
    "    tokens = sequence.strip().split()\n",
    "    token_indices = [vocab.get(token, 0) for token in tokens]\n",
    "    \n",
    "    if len(token_indices) < max_length:\n",
    "        token_indices += [0] * (max_length - len(token_indices))\n",
    "    else:\n",
    "        token_indices = token_indices[:max_length]\n",
    "    \n",
    "    input_array = np.array(token_indices, dtype=np.int64).reshape(1, -1)\n",
    "    ort_inputs = {'input': input_array}\n",
    "    ort_outs = ort_session.run(None, ort_inputs)\n",
    "    logits = ort_outs[0]\n",
    "    probabilities = softmax(logits, axis=1)\n",
    "    confidence = np.max(probabilities, axis=1)[0]\n",
    "    label = np.argmax(probabilities, axis=1)[0]\n",
    "    sentiment = 'positive' if label == 1 else 'negative'\n",
    "    return sentiment, confidence"
   ]
  },
  {
   "cell_type": "code",
   "execution_count": 9,
   "metadata": {},
   "outputs": [],
   "source": [
    "# ----------------------\n",
    "# User Interface\n",
    "# ----------------------\n",
    "def create_snt_analysis_interface(model_name):\n",
    "    vocab = load_vocab(model_name)\n",
    "    model = load_model(model_name)\n",
    "\n",
    "    title = widgets.Label(value=\"Sentiment Analysis\")\n",
    "    text_input = widgets.Textarea(description=\"Sentence:\", placeholder=\"e.g. I love this product!\")\n",
    "    output_area = widgets.Textarea(value=\"Result:\", layout=widgets.Layout(height='50px'), disabled=True)\n",
    "    tag_button = widgets.Button(description=\"Analyze\")\n",
    "    \n",
    "    def on_infer_clicked(b):\n",
    "        input_text = text_input.value\n",
    "        if input_text.strip():\n",
    "            sentiment, confidence = predict_sentiment(model, vocab, input_text, max_length=32)\n",
    "            output_area.value = f\"Sentiment: {sentiment.capitalize()}\\nConfidence: {confidence*100:.2f}%\"\n",
    "        else:\n",
    "            output_area.value = \"Please enter some text.\"\n",
    "    \n",
    "    tag_button.on_click(on_infer_clicked)\n",
    "    \n",
    "    display(widgets.VBox([title, text_input, tag_button, output_area]))"
   ]
  },
  {
   "cell_type": "code",
   "execution_count": 10,
   "metadata": {},
   "outputs": [
    {
     "data": {
      "application/vnd.jupyter.widget-view+json": {
       "model_id": "aa25fa6c57624a3e9660cde8342b8ca2",
       "version_major": 2,
       "version_minor": 0
      },
      "text/plain": [
       "VBox(children=(Label(value='Sentiment Analysis'), Textarea(value='', description='Sentence:', placeholder='e.g…"
      ]
     },
     "metadata": {},
     "output_type": "display_data"
    }
   ],
   "source": [
    "create_snt_analysis_interface(\"text-cnn\")"
   ]
  },
  {
   "cell_type": "code",
   "execution_count": 11,
   "metadata": {},
   "outputs": [
    {
     "data": {
      "application/vnd.jupyter.widget-view+json": {
       "model_id": "8a096fb1239f47bfac072a51fe74c5db",
       "version_major": 2,
       "version_minor": 0
      },
      "text/plain": [
       "VBox(children=(Label(value='Sentiment Analysis'), Textarea(value='', description='Sentence:', placeholder='e.g…"
      ]
     },
     "metadata": {},
     "output_type": "display_data"
    }
   ],
   "source": [
    "create_snt_analysis_interface(\"bi-rnn\")"
   ]
  },
  {
   "cell_type": "code",
   "execution_count": 12,
   "metadata": {},
   "outputs": [
    {
     "data": {
      "application/vnd.jupyter.widget-view+json": {
       "model_id": "08b56a4ae7ea4388829902767450a00b",
       "version_major": 2,
       "version_minor": 0
      },
      "text/plain": [
       "VBox(children=(Label(value='Sentiment Analysis'), Textarea(value='', description='Sentence:', placeholder='e.g…"
      ]
     },
     "metadata": {},
     "output_type": "display_data"
    }
   ],
   "source": [
    "create_snt_analysis_interface(\"hybrid_cnn-rnn\")"
   ]
  }
 ],
 "metadata": {
  "kernelspec": {
   "display_name": "ai",
   "language": "python",
   "name": "python3"
  },
  "language_info": {
   "codemirror_mode": {
    "name": "ipython",
    "version": 3
   },
   "file_extension": ".py",
   "mimetype": "text/x-python",
   "name": "python",
   "nbconvert_exporter": "python",
   "pygments_lexer": "ipython3",
   "version": "3.10.15"
  }
 },
 "nbformat": 4,
 "nbformat_minor": 2
}
